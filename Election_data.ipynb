{
  "nbformat": 4,
  "nbformat_minor": 0,
  "metadata": {
    "colab": {
      "provenance": [],
      "toc_visible": true,
      "authorship_tag": "ABX9TyPmB2JjSPgggK2OE8A1UbB3",
      "include_colab_link": true
    },
    "kernelspec": {
      "name": "python3",
      "display_name": "Python 3"
    },
    "language_info": {
      "name": "python"
    }
  },
  "cells": [
    {
      "cell_type": "markdown",
      "metadata": {
        "id": "view-in-github",
        "colab_type": "text"
      },
      "source": [
        "<a href=\"https://colab.research.google.com/github/bryaanabraham/Election-Data-Analysis/blob/main/Election_data.ipynb\" target=\"_parent\"><img src=\"https://colab.research.google.com/assets/colab-badge.svg\" alt=\"Open In Colab\"/></a>"
      ]
    },
    {
      "cell_type": "code",
      "execution_count": null,
      "metadata": {
        "id": "cHS5IxKKOj1-",
        "outputId": "3ce4212d-1fd3-4dd5-d6ef-5c0a2b3f9dab",
        "colab": {
          "base_uri": "https://localhost:8080/"
        }
      },
      "outputs": [
        {
          "output_type": "stream",
          "name": "stdout",
          "text": [
            "Requirement already satisfied: requests in /usr/local/lib/python3.10/dist-packages (2.31.0)\n",
            "Requirement already satisfied: beautifulsoup4 in /usr/local/lib/python3.10/dist-packages (4.12.3)\n",
            "Requirement already satisfied: pandas in /usr/local/lib/python3.10/dist-packages (2.0.3)\n",
            "Requirement already satisfied: charset-normalizer<4,>=2 in /usr/local/lib/python3.10/dist-packages (from requests) (3.3.2)\n",
            "Requirement already satisfied: idna<4,>=2.5 in /usr/local/lib/python3.10/dist-packages (from requests) (3.7)\n",
            "Requirement already satisfied: urllib3<3,>=1.21.1 in /usr/local/lib/python3.10/dist-packages (from requests) (2.0.7)\n",
            "Requirement already satisfied: certifi>=2017.4.17 in /usr/local/lib/python3.10/dist-packages (from requests) (2024.6.2)\n",
            "Requirement already satisfied: soupsieve>1.2 in /usr/local/lib/python3.10/dist-packages (from beautifulsoup4) (2.5)\n",
            "Requirement already satisfied: python-dateutil>=2.8.2 in /usr/local/lib/python3.10/dist-packages (from pandas) (2.8.2)\n",
            "Requirement already satisfied: pytz>=2020.1 in /usr/local/lib/python3.10/dist-packages (from pandas) (2023.4)\n",
            "Requirement already satisfied: tzdata>=2022.1 in /usr/local/lib/python3.10/dist-packages (from pandas) (2024.1)\n",
            "Requirement already satisfied: numpy>=1.21.0 in /usr/local/lib/python3.10/dist-packages (from pandas) (1.25.2)\n",
            "Requirement already satisfied: six>=1.5 in /usr/local/lib/python3.10/dist-packages (from python-dateutil>=2.8.2->pandas) (1.16.0)\n"
          ]
        }
      ],
      "source": [
        "!pip install requests beautifulsoup4 pandas"
      ]
    },
    {
      "cell_type": "code",
      "source": [
        "import requests\n",
        "from bs4 import BeautifulSoup\n",
        "\n",
        "# Step 1: Fetch the webpage content\n",
        "url = \"https://results.eci.gov.in/AcResultByeJune2024/index.htm\"\n",
        "response = requests.get(url)\n",
        "html_content = response.content\n",
        "\n",
        "# Step 2: Parse HTML content\n",
        "soup = BeautifulSoup(html_content, 'html.parser')\n",
        "\n",
        "# Step 3: Extract all links from buttons\n",
        "buttons = soup.find_all('a')\n",
        "links = [button['href'] for button in buttons if 'href' in button.attrs]\n",
        "\n",
        "# Convert relative URLs to absolute URLs\n",
        "base_url = \"https://results.eci.gov.in/AcResultByeJune2024/\"\n",
        "absolute_links = [base_url + link for link in links]\n",
        "\n",
        "# Print the extracted links\n",
        "for link in absolute_links:\n",
        "    print(link)"
      ],
      "metadata": {
        "colab": {
          "base_uri": "https://localhost:8080/"
        },
        "id": "B6WZrRSEc9mN",
        "outputId": "23ec505f-9718-448a-baa7-92bff9a106dd"
      },
      "execution_count": null,
      "outputs": [
        {
          "output_type": "stream",
          "name": "stdout",
          "text": [
            "https://results.eci.gov.in/AcResultByeJune2024/index.htm\n",
            "https://results.eci.gov.in/AcResultByeJune2024/./hi/index.htm\n",
            "https://results.eci.gov.in/AcResultByeJune2024/#\n",
            "https://results.eci.gov.in/AcResultByeJune2024/candidateswise-S04195.htm\n",
            "https://results.eci.gov.in/AcResultByeJune2024/candidateswise-S0626.htm\n",
            "https://results.eci.gov.in/AcResultByeJune2024/candidateswise-S0683.htm\n",
            "https://results.eci.gov.in/AcResultByeJune2024/candidateswise-S0685.htm\n",
            "https://results.eci.gov.in/AcResultByeJune2024/candidateswise-S06108.htm\n",
            "https://results.eci.gov.in/AcResultByeJune2024/candidateswise-S06136.htm\n",
            "https://results.eci.gov.in/AcResultByeJune2024/candidateswise-S0721.htm\n",
            "https://results.eci.gov.in/AcResultByeJune2024/candidateswise-S0818.htm\n",
            "https://results.eci.gov.in/AcResultByeJune2024/candidateswise-S0821.htm\n",
            "https://results.eci.gov.in/AcResultByeJune2024/candidateswise-S0837.htm\n",
            "https://results.eci.gov.in/AcResultByeJune2024/candidateswise-S0839.htm\n",
            "https://results.eci.gov.in/AcResultByeJune2024/candidateswise-S0842.htm\n",
            "https://results.eci.gov.in/AcResultByeJune2024/candidateswise-S0845.htm\n",
            "https://results.eci.gov.in/AcResultByeJune2024/candidateswise-S2731.htm\n",
            "https://results.eci.gov.in/AcResultByeJune2024/candidateswise-S1036.htm\n",
            "https://results.eci.gov.in/AcResultByeJune2024/candidateswise-S20165.htm\n",
            "https://results.eci.gov.in/AcResultByeJune2024/candidateswise-S22233.htm\n",
            "https://results.eci.gov.in/AcResultByeJune2024/candidateswise-S2971.htm\n",
            "https://results.eci.gov.in/AcResultByeJune2024/candidateswise-S237.htm\n",
            "https://results.eci.gov.in/AcResultByeJune2024/candidateswise-S24136.htm\n",
            "https://results.eci.gov.in/AcResultByeJune2024/candidateswise-S24173.htm\n",
            "https://results.eci.gov.in/AcResultByeJune2024/candidateswise-S24292.htm\n",
            "https://results.eci.gov.in/AcResultByeJune2024/candidateswise-S24403.htm\n",
            "https://results.eci.gov.in/AcResultByeJune2024/candidateswise-S2562.htm\n",
            "https://results.eci.gov.in/AcResultByeJune2024/candidateswise-S25113.htm\n",
            "https://results.eci.gov.in/AcResultByeJune2024/https://play.google.com/store/apps/details?id=com.eci.citizen\n",
            "https://results.eci.gov.in/AcResultByeJune2024/https://apps.apple.com/in/app/voter-helpline/id1456535004\n"
          ]
        }
      ]
    },
    {
      "cell_type": "code",
      "source": [
        "import pandas as pd\n",
        "import requests\n",
        "from bs4 import BeautifulSoup\n",
        "\n",
        "# Step 1: Fetch the webpage content\n",
        "url = \"https://results.eci.gov.in/AcResultByeJune2024/ConstituencywiseS0818.htm\"\n",
        "response = requests.get(url)\n",
        "html_content = response.content\n",
        "\n",
        "# Step 2: Parse HTML content\n",
        "soup = BeautifulSoup(html_content, 'html.parser')\n",
        "\n",
        "# Step 3: Locate the table\n",
        "table = soup.find('table', class_='table table-striped table-bordered')\n",
        "\n",
        "# Step 4: Extract the header\n",
        "headers = [header.text.strip() for header in table.find_all('th')]\n",
        "\n",
        "# Keep only the first 7 headers that match the data rows\n",
        "headers = headers[:7]\n",
        "\n",
        "# Debug: Print the headers\n",
        "print(\"Headers:\", headers)\n",
        "\n",
        "# Step 5: Extract the rows\n",
        "rows = []\n",
        "for row in table.find('tbody').find_all('tr'):\n",
        "    cells = row.find_all('td')\n",
        "    rows.append([cell.text.strip() for cell in cells])\n",
        "\n",
        "# Debug: Print the first few rows\n",
        "print(\"Rows:\", rows[:3])\n",
        "\n",
        "# Step 6: Check the length of headers and rows to ensure they match\n",
        "for row in rows:\n",
        "    if len(row) != len(headers):\n",
        "        print(f\"Row length {len(row)} does not match header length {len(headers)}\")\n",
        "\n",
        "# Step 7: Create a DataFrame\n",
        "df = pd.DataFrame(rows, columns=headers)\n",
        "\n",
        "# Step 8: Save the DataFrame to a CSV file\n",
        "csv_file_path = \"Dharamshala_Assembly_Constituency_Results_June_2024.csv\"\n",
        "df.to_csv(csv_file_path, index=False)\n",
        "\n",
        "print(f\"Data has been saved to {csv_file_path}\")\n"
      ],
      "metadata": {
        "colab": {
          "base_uri": "https://localhost:8080/"
        },
        "id": "CgwzS_HyWasD",
        "outputId": "85c2389a-f5ad-43ea-c932-0e64a99b9f82"
      },
      "execution_count": null,
      "outputs": [
        {
          "output_type": "stream",
          "name": "stdout",
          "text": [
            "Headers: ['S.N.', 'Candidate', 'Party', 'EVM Votes', 'Postal Votes', 'Total Votes', '% of Votes']\n",
            "Rows: [['1', 'DEVINDER SINGH (JAGGI)', 'Indian National Congress', '21918', '622', '22540', '36.19'], ['2', 'SUDHIR SHARMA', 'Bharatiya Janata Party', '27529', '537', '28066', '45.06'], ['3', 'RAKESH CHAUDHARY', 'Independent', '10637', '133', '10770', '17.29']]\n",
            "Data has been saved to Dharamshala_Assembly_Constituency_Results_June_2024.csv\n"
          ]
        }
      ]
    },
    {
      "cell_type": "code",
      "source": [],
      "metadata": {
        "id": "FsWXga3Pmg_e"
      },
      "execution_count": null,
      "outputs": []
    }
  ]
}