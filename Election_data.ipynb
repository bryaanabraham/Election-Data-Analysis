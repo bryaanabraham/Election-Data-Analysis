{
  "nbformat": 4,
  "nbformat_minor": 0,
  "metadata": {
    "colab": {
      "provenance": [],
      "authorship_tag": "ABX9TyMJOJPfqzwoDTilnG7XotR0",
      "include_colab_link": true
    },
    "kernelspec": {
      "name": "python3",
      "display_name": "Python 3"
    },
    "language_info": {
      "name": "python"
    }
  },
  "cells": [
    {
      "cell_type": "markdown",
      "metadata": {
        "id": "view-in-github",
        "colab_type": "text"
      },
      "source": [
        "<a href=\"https://colab.research.google.com/github/bryaanabraham/Election-Data-Analysis/blob/main/Election_data.ipynb\" target=\"_parent\"><img src=\"https://colab.research.google.com/assets/colab-badge.svg\" alt=\"Open In Colab\"/></a>"
      ]
    },
    {
      "cell_type": "code",
      "source": [
        "import requests\n",
        "from bs4 import BeautifulSoup\n",
        "import pandas as pd"
      ],
      "metadata": {
        "id": "2mWa7PHWngl7"
      },
      "execution_count": 1,
      "outputs": []
    },
    {
      "cell_type": "code",
      "source": [
        "def exctract_data(url, name):\n",
        "    response = requests.get(url)\n",
        "    html_content = response.content\n",
        "\n",
        "    # Parse HTML content\n",
        "    soup = BeautifulSoup(html_content, 'html.parser')\n",
        "\n",
        "    # Locate the table\n",
        "    table = soup.find('table', class_='table table-striped table-bordered')\n",
        "\n",
        "    if table is None:\n",
        "        print(f\"Table not found for URL: {url}\")\n",
        "        return\n",
        "\n",
        "    # Extract the header\n",
        "    headers = [header.text.strip() for header in table.find_all('th')]\n",
        "\n",
        "    # Keep only the first 7 headers that match the data rows\n",
        "    headers = headers[:7]\n",
        "    print(f\"Headers for {name}: {headers}\")\n",
        "\n",
        "    # Extract the rows\n",
        "    rows = []\n",
        "    for row in table.find('tbody').find_all('tr'):\n",
        "        cells = row.find_all('td')\n",
        "        rows.append([cell.text.strip() for cell in cells])\n",
        "    print(f\"Rows for {name}: {rows[:3]}\")\n",
        "\n",
        "    # Check the length of headers and rows to ensure they match\n",
        "    for row in rows:\n",
        "        if len(row) != len(headers):\n",
        "            print(f\"Row length {len(row)} does not match header length {len(headers)}\")\n",
        "\n",
        "    df = pd.DataFrame(rows, columns=headers)\n",
        "    csv_file_path = f\"csv_files/{name}.csv\"\n",
        "    df.to_csv(csv_file_path, index=False)\n",
        "\n",
        "    print(f\"Data has been saved to {csv_file_path}\")"
      ],
      "metadata": {
        "id": "CgwzS_HyWasD"
      },
      "execution_count": 2,
      "outputs": []
    },
    {
      "cell_type": "code",
      "source": [
        "# Fetch the webpage content\n",
        "url = \"https://results.eci.gov.in/AcResultByeJune2024/index.htm\"\n",
        "response = requests.get(url)\n",
        "html_content = response.content\n",
        "\n",
        "# Parse HTML content\n",
        "soup = BeautifulSoup(html_content, 'html.parser')\n",
        "\n",
        "# Extract all links from buttons\n",
        "buttons = soup.find_all('a')\n",
        "links = [button['href'] for button in buttons if 'href' in button.attrs]\n",
        "\n",
        "# Convert relative URLs to absolute URLs\n",
        "base_url = \"https://results.eci.gov.in/AcResultByeJune2024/\"\n",
        "absolute_links = [base_url + link for link in links]\n",
        "\n",
        "for link in absolute_links:\n",
        "    print(link)"
      ],
      "metadata": {
        "colab": {
          "base_uri": "https://localhost:8080/"
        },
        "id": "B6WZrRSEc9mN",
        "outputId": "5a90ca7d-320d-4a74-b6c1-4339631f78f9"
      },
      "execution_count": 3,
      "outputs": [
        {
          "output_type": "stream",
          "name": "stdout",
          "text": [
            "https://results.eci.gov.in/AcResultByeJune2024/index.htm\n",
            "https://results.eci.gov.in/AcResultByeJune2024/./hi/index.htm\n",
            "https://results.eci.gov.in/AcResultByeJune2024/#\n",
            "https://results.eci.gov.in/AcResultByeJune2024/candidateswise-S04195.htm\n",
            "https://results.eci.gov.in/AcResultByeJune2024/candidateswise-S0626.htm\n",
            "https://results.eci.gov.in/AcResultByeJune2024/candidateswise-S0683.htm\n",
            "https://results.eci.gov.in/AcResultByeJune2024/candidateswise-S0685.htm\n",
            "https://results.eci.gov.in/AcResultByeJune2024/candidateswise-S06108.htm\n",
            "https://results.eci.gov.in/AcResultByeJune2024/candidateswise-S06136.htm\n",
            "https://results.eci.gov.in/AcResultByeJune2024/candidateswise-S0721.htm\n",
            "https://results.eci.gov.in/AcResultByeJune2024/candidateswise-S0818.htm\n",
            "https://results.eci.gov.in/AcResultByeJune2024/candidateswise-S0821.htm\n",
            "https://results.eci.gov.in/AcResultByeJune2024/candidateswise-S0837.htm\n",
            "https://results.eci.gov.in/AcResultByeJune2024/candidateswise-S0839.htm\n",
            "https://results.eci.gov.in/AcResultByeJune2024/candidateswise-S0842.htm\n",
            "https://results.eci.gov.in/AcResultByeJune2024/candidateswise-S0845.htm\n",
            "https://results.eci.gov.in/AcResultByeJune2024/candidateswise-S2731.htm\n",
            "https://results.eci.gov.in/AcResultByeJune2024/candidateswise-S1036.htm\n",
            "https://results.eci.gov.in/AcResultByeJune2024/candidateswise-S20165.htm\n",
            "https://results.eci.gov.in/AcResultByeJune2024/candidateswise-S22233.htm\n",
            "https://results.eci.gov.in/AcResultByeJune2024/candidateswise-S2971.htm\n",
            "https://results.eci.gov.in/AcResultByeJune2024/candidateswise-S237.htm\n",
            "https://results.eci.gov.in/AcResultByeJune2024/candidateswise-S24136.htm\n",
            "https://results.eci.gov.in/AcResultByeJune2024/candidateswise-S24173.htm\n",
            "https://results.eci.gov.in/AcResultByeJune2024/candidateswise-S24292.htm\n",
            "https://results.eci.gov.in/AcResultByeJune2024/candidateswise-S24403.htm\n",
            "https://results.eci.gov.in/AcResultByeJune2024/candidateswise-S2562.htm\n",
            "https://results.eci.gov.in/AcResultByeJune2024/candidateswise-S25113.htm\n",
            "https://results.eci.gov.in/AcResultByeJune2024/https://play.google.com/store/apps/details?id=com.eci.citizen\n",
            "https://results.eci.gov.in/AcResultByeJune2024/https://apps.apple.com/in/app/voter-helpline/id1456535004\n"
          ]
        }
      ]
    },
    {
      "cell_type": "code",
      "source": [
        "print(len(absolute_links))"
      ],
      "metadata": {
        "colab": {
          "base_uri": "https://localhost:8080/"
        },
        "id": "x5jXs4Y2nyfg",
        "outputId": "404a87df-204f-4345-a5ba-5dbe98dd9e93"
      },
      "execution_count": 4,
      "outputs": [
        {
          "output_type": "stream",
          "name": "stdout",
          "text": [
            "30\n"
          ]
        }
      ]
    },
    {
      "cell_type": "code",
      "source": [
        "# All URLs are not useful\n",
        "filtered_links = [item for item in absolute_links if 'candidateswise'in item]\n",
        "for link in filtered_links:\n",
        "    print(link)"
      ],
      "metadata": {
        "colab": {
          "base_uri": "https://localhost:8080/"
        },
        "id": "ri90E4Copc6P",
        "outputId": "60355325-fefd-4912-c569-c2ea0c1d0a32"
      },
      "execution_count": 5,
      "outputs": [
        {
          "output_type": "stream",
          "name": "stdout",
          "text": [
            "https://results.eci.gov.in/AcResultByeJune2024/candidateswise-S04195.htm\n",
            "https://results.eci.gov.in/AcResultByeJune2024/candidateswise-S0626.htm\n",
            "https://results.eci.gov.in/AcResultByeJune2024/candidateswise-S0683.htm\n",
            "https://results.eci.gov.in/AcResultByeJune2024/candidateswise-S0685.htm\n",
            "https://results.eci.gov.in/AcResultByeJune2024/candidateswise-S06108.htm\n",
            "https://results.eci.gov.in/AcResultByeJune2024/candidateswise-S06136.htm\n",
            "https://results.eci.gov.in/AcResultByeJune2024/candidateswise-S0721.htm\n",
            "https://results.eci.gov.in/AcResultByeJune2024/candidateswise-S0818.htm\n",
            "https://results.eci.gov.in/AcResultByeJune2024/candidateswise-S0821.htm\n",
            "https://results.eci.gov.in/AcResultByeJune2024/candidateswise-S0837.htm\n",
            "https://results.eci.gov.in/AcResultByeJune2024/candidateswise-S0839.htm\n",
            "https://results.eci.gov.in/AcResultByeJune2024/candidateswise-S0842.htm\n",
            "https://results.eci.gov.in/AcResultByeJune2024/candidateswise-S0845.htm\n",
            "https://results.eci.gov.in/AcResultByeJune2024/candidateswise-S2731.htm\n",
            "https://results.eci.gov.in/AcResultByeJune2024/candidateswise-S1036.htm\n",
            "https://results.eci.gov.in/AcResultByeJune2024/candidateswise-S20165.htm\n",
            "https://results.eci.gov.in/AcResultByeJune2024/candidateswise-S22233.htm\n",
            "https://results.eci.gov.in/AcResultByeJune2024/candidateswise-S2971.htm\n",
            "https://results.eci.gov.in/AcResultByeJune2024/candidateswise-S237.htm\n",
            "https://results.eci.gov.in/AcResultByeJune2024/candidateswise-S24136.htm\n",
            "https://results.eci.gov.in/AcResultByeJune2024/candidateswise-S24173.htm\n",
            "https://results.eci.gov.in/AcResultByeJune2024/candidateswise-S24292.htm\n",
            "https://results.eci.gov.in/AcResultByeJune2024/candidateswise-S24403.htm\n",
            "https://results.eci.gov.in/AcResultByeJune2024/candidateswise-S2562.htm\n",
            "https://results.eci.gov.in/AcResultByeJune2024/candidateswise-S25113.htm\n"
          ]
        }
      ]
    },
    {
      "cell_type": "code",
      "source": [
        "print(len(filtered_links))"
      ],
      "metadata": {
        "colab": {
          "base_uri": "https://localhost:8080/"
        },
        "id": "iHTI0aJnrBOu",
        "outputId": "085b766d-8b88-40cf-fc54-4a5d45b1e206"
      },
      "execution_count": 6,
      "outputs": [
        {
          "output_type": "stream",
          "name": "stdout",
          "text": [
            "25\n"
          ]
        }
      ]
    },
    {
      "cell_type": "code",
      "source": [
        "for url in filtered_links:\n",
        "  name = url.split('-')[-1].split('.')[0]\n",
        "  # the website contains tabulated data under 'Constituencywise' whereas 'candidatewise' has it in the form of ccards\n",
        "  url = url.replace('candidateswise-', 'Constituencywise')\n",
        "  exctract_data(url,name)"
      ],
      "metadata": {
        "colab": {
          "base_uri": "https://localhost:8080/"
        },
        "id": "R_NK-SSPrHxh",
        "outputId": "0b3928fe-acd1-44ab-d40a-9cc7bfd693b2"
      },
      "execution_count": 7,
      "outputs": [
        {
          "output_type": "stream",
          "name": "stdout",
          "text": [
            "Headers for S04195: ['S.N.', 'Candidate', 'Party', 'EVM Votes', 'Postal Votes', 'Total Votes', '% of Votes']\n",
            "Rows for S04195: [['1', 'PRABHUNATH PRASAD', 'Janata Dal  (United)', '43334', '291', '43625', '31.66'], ['2', 'SHIV PRAKASH RANJAN', 'Communist Party of India  (Marxist-Leninist)  (Liberation)', '73191', '269', '73460', '53.31'], ['3', 'UPENDRA KUMAR S/O - CHANDESHWAR RAM', 'Independent', '6414', '4', '6418', '4.66']]\n",
            "Data has been saved to csv_files/S04195.csv\n",
            "Headers for S0626: ['S.N.', 'Candidate', 'Party', 'EVM Votes', 'Postal Votes', 'Total Votes', '% of Votes']\n",
            "Rows for S0626: [['1', 'DR. C. J. CHAVDA', 'Bharatiya Janata Party', '99083', '1558', '100641', '67.49'], ['2', 'DINESHBHAI TULSIBHAI PATEL', 'Indian National Congress', '43393', '1020', '44413', '29.78'], ['3', 'ANKITKUMAR HARSHADBHAI GOHIL', 'Independent', '960', '4', '964', '0.65']]\n",
            "Data has been saved to csv_files/S0626.csv\n",
            "Headers for S0683: ['S.N.', 'Candidate', 'Party', 'EVM Votes', 'Postal Votes', 'Total Votes', '% of Votes']\n",
            "Rows for S0683: [['1', 'ARJUN DEVABHAI MODHWADIA', 'Bharatiya Janata Party', '131854', '1309', '133163', '85.96'], ['2', 'ODEDARA RAJU BHIMA', 'Indian National Congress', '16096', '259', '16355', '10.56'], ['3', 'RASIK GHELA MANGERA', 'Viro Ke Vir Indian Party', '785', '21', '806', '0.52']]\n",
            "Data has been saved to csv_files/S0683.csv\n",
            "Headers for S0685: ['S.N.', 'Candidate', 'Party', 'EVM Votes', 'Postal Votes', 'Total Votes', '% of Votes']\n",
            "Rows for S0685: [['1', 'ARVINDBHAI JINABHAI LADANI', 'Bharatiya Janata Party', '80898', '1119', '82017', '60.03'], ['2', 'HARIBHAI GOVINDBHAI KANSAGARA', 'Indian National Congress', '50101', '900', '51001', '37.33'], ['3', 'PARMAR MAHESH RAMJIBHAI', 'Independent', '1057', '16', '1073', '0.79']]\n",
            "Data has been saved to csv_files/S0685.csv\n",
            "Headers for S06108: ['S.N.', 'Candidate', 'Party', 'EVM Votes', 'Postal Votes', 'Total Votes', '% of Votes']\n",
            "Rows for S06108: [['1', 'CHIRAGKUMAR ARVINDBHAI PATEL', 'Bharatiya Janata Party', '87707', '750', '88457', '56.3'], ['2', 'MAHENDRASINH HARISINH PARMAR', 'Indian National Congress', '49505', '624', '50129', '31.91'], ['3', 'CHAUHAN MAHIPATSINH KESARISINH', 'Independent', '15631', '185', '15816', '10.07']]\n",
            "Data has been saved to csv_files/S06108.csv\n",
            "Headers for S06136: ['S.N.', 'Candidate', 'Party', 'EVM Votes', 'Postal Votes', 'Total Votes', '% of Votes']\n",
            "Rows for S06136: [['1', 'KANUBHAI PUNJABHAI GOHIL', 'Indian National Congress', '45144', '194', '45338', '25.65'], ['2', 'DHARMENDRASINH VAGHELA (BAPU)', 'Bharatiya Janata Party', '126905', '541', '127446', '72.1'], ['3', 'NOTA', 'None of the Above', '3943', '29', '3972', '2.25']]\n",
            "Data has been saved to csv_files/S06136.csv\n",
            "Headers for S0721: ['S.N.', 'Candidate', 'Party', 'EVM Votes', 'Postal Votes', 'Total Votes', '% of Votes']\n",
            "Rows for S0721: [['1', 'TARLOCHAN SINGH', 'Indian National Congress', '53231', '233', '53464', '35.13'], ['2', 'NAYAB SINGH', 'Bharatiya Janata Party', '94714', '290', '95004', '62.43'], ['3', 'RAJINDER', 'Jannayak Janta Party', '1072', '1', '1073', '0.71']]\n",
            "Data has been saved to csv_files/S0721.csv\n",
            "Headers for S0818: ['S.N.', 'Candidate', 'Party', 'EVM Votes', 'Postal Votes', 'Total Votes', '% of Votes']\n",
            "Rows for S0818: [['1', 'DEVINDER SINGH (JAGGI)', 'Indian National Congress', '21918', '622', '22540', '36.19'], ['2', 'SUDHIR SHARMA', 'Bharatiya Janata Party', '27529', '537', '28066', '45.06'], ['3', 'RAKESH CHAUDHARY', 'Independent', '10637', '133', '10770', '17.29']]\n",
            "Data has been saved to csv_files/S0818.csv\n",
            "Headers for S0821: ['S.N.', 'Candidate', 'Party', 'EVM Votes', 'Postal Votes', 'Total Votes', '% of Votes']\n",
            "Rows for S0821: [['1', 'ANURADHA RANA', 'Indian National Congress', '8877', '537', '9414', '47.09'], ['2', 'RAVI THAKUR', 'Bharatiya Janata Party', '2934', '115', '3049', '15.25'], ['3', 'DR. RAM LAL MARKANDA', 'Independent', '7091', '363', '7454', '37.28']]\n",
            "Data has been saved to csv_files/S0821.csv\n",
            "Headers for S0837: ['S.N.', 'Candidate', 'Party', 'EVM Votes', 'Postal Votes', 'Total Votes', '% of Votes']\n",
            "Rows for S0837: [['1', 'CAPTAIN RANJIT SINGH', 'Indian National Congress', '28577', '952', '29529', '51.4'], ['2', 'RAJINDER RANA', 'Bharatiya Janata Party', '26403', '686', '27089', '47.16'], ['3', 'RAVINDER SINGH DOGRA', 'Nationalist Congress Party', '314', '20', '334', '0.58']]\n",
            "Data has been saved to csv_files/S0837.csv\n",
            "Headers for S0839: ['S.N.', 'Candidate', 'Party', 'EVM Votes', 'Postal Votes', 'Total Votes', '% of Votes']\n",
            "Rows for S0839: [['1', 'INDER DUTT LAKHANPAL', 'Bharatiya Janata Party', '32174', '912', '33086', '51.04'], ['2', 'SUBHASH CHAND', 'Indian National Congress', '29857', '1104', '30961', '47.76'], ['3', 'VISHAL SHARMA', 'Independent', '430', '22', '452', '0.7']]\n",
            "Data has been saved to csv_files/S0839.csv\n",
            "Headers for S0842: ['S.N.', 'Candidate', 'Party', 'EVM Votes', 'Postal Votes', 'Total Votes', '% of Votes']\n",
            "Rows for S0842: [['1', 'CHAITANYA SHARMA', 'Bharatiya Janata Party', '26815', '466', '27281', '42.08'], ['2', 'RAKESH KALIA', 'Indian National Congress', '34785', '983', '35768', '55.17'], ['3', 'AMIT VASHISHT', 'Independent', '559', '11', '570', '0.88']]\n",
            "Data has been saved to csv_files/S0842.csv\n",
            "Headers for S0845: ['S.N.', 'Candidate', 'Party', 'EVM Votes', 'Postal Votes', 'Total Votes', '% of Votes']\n",
            "Rows for S0845: [['1', 'DAVINDER KUMAR (BHUTTO)', 'Bharatiya Janata Party', '30841', '656', '31497', '45.5'], ['2', 'VIVEK SHARMA (VICKU)', 'Indian National Congress', '35728', '1125', '36853', '53.24'], ['3', 'CHANCHAL SINGH', 'Independent', '290', '10', '300', '0.43']]\n",
            "Data has been saved to csv_files/S0845.csv\n",
            "Headers for S2731: ['S.N.', 'Candidate', 'Party', 'EVM Votes', 'Postal Votes', 'Total Votes', '% of Votes']\n",
            "Rows for S2731: [['1', 'KALPANA MURMU SOREN', 'Jharkhand Mukti Morcha', '109085', '742', '109827', '50.54'], ['2', 'DILIP KUMAR VERMA', 'Bharatiya Janata Party', '82284', '394', '82678', '38.05'], ['3', 'INTEKHAB ANSARI', 'All India Majlis-E-Ittehadul Muslimeen', '4758', '6', '4764', '2.19']]\n",
            "Data has been saved to csv_files/S2731.csv\n",
            "Headers for S1036: ['S.N.', 'Candidate', 'Party', 'EVM Votes', 'Postal Votes', 'Total Votes', '% of Votes']\n",
            "Rows for S1036: [['1', 'NARASIMHA NAYAK', 'Bharatiya Janata Party', '96052', '514', '96566', '44.85'], ['2', 'RAJA VENUGOPAL NAIK', 'Indian National Congress', '114290', '596', '114886', '53.36'], ['3', 'ASHOKA', 'Independent', '1612', '0', '1612', '0.75']]\n",
            "Data has been saved to csv_files/S1036.csv\n",
            "Headers for S20165: ['S.N.', 'Candidate', 'Party', 'EVM Votes', 'Postal Votes', 'Total Votes', '% of Votes']\n",
            "Rows for S20165: [['1', 'KAPURSINGH', 'Indian National Congress', '8881', '23', '8904', '4.25'], ['2', 'SUBHASH TAMBOLIYA', 'Bharatiya Janata Party', '70115', '1024', '71139', '33.92'], ['3', 'JAIKRISHN PATEL', 'Bharat Adivasi Party', '121423', '1150', '122573', '58.45']]\n",
            "Data has been saved to csv_files/S20165.csv\n",
            "Headers for S22233: ['S.N.', 'Candidate', 'Party', 'EVM Votes', 'Postal Votes', 'Total Votes', '% of Votes']\n",
            "Rows for S22233: [['1', 'THARAHAI CUTHBERT', 'Indian National Congress', '89387', '1667', '91054', '57.71'], ['2', 'NANTHINI V S', 'Bharatiya Janata Party', '50008', '872', '50880', '32.25'], ['3', 'RANI U', 'All India Anna Dravida Munnetra Kazhagam', '5178', '89', '5267', '3.34']]\n",
            "Data has been saved to csv_files/S22233.csv\n",
            "Headers for S2971: ['S.N.', 'Candidate', 'Party', 'EVM Votes', 'Postal Votes', 'Total Votes', '% of Votes']\n",
            "Rows for S2971: [['1', 'NIVEDITHA SAYANNA', 'Bharat Rashtra Samithi', '34221', '241', '34462', '26.25'], ['2', 'DR. VAMSHA TILAK T. N.', 'Bharatiya Janata Party', '40241', '204', '40445', '30.8'], ['3', 'SRIGANESH', 'Indian National Congress', '53274', '377', '53651', '40.86']]\n",
            "Data has been saved to csv_files/S2971.csv\n",
            "Headers for S237: ['S.N.', 'Candidate', 'Party', 'EVM Votes', 'Postal Votes', 'Total Votes', '% of Votes']\n",
            "Rows for S237: [['1', 'DIPAK MAJUMDER', 'Bharatiya Janata Party', '24648', '732', '25380', '75.46'], ['2', 'RATAN DAS', 'Communist Party of India  (Marxist)', '7073', '293', '7366', '21.9'], ['3', 'NOTA', 'None of the Above', '853', '34', '887', '2.64']]\n",
            "Data has been saved to csv_files/S237.csv\n",
            "Headers for S24136: ['S.N.', 'Candidate', 'Party', 'EVM Votes', 'Postal Votes', 'Total Votes', '% of Votes']\n",
            "Rows for S24136: [['1', 'ARVIND KUMAR SINGH', 'Bharatiya Janata Party', '105837', '135', '105972', '48'], ['2', 'AVADHESH KUMAR VERMA', 'Samajwadi Party', '88807', '370', '89177', '40.39'], ['3', 'SARVESH CHANDRA MISHRA', 'Bahujan Samaj Party', '20687', '55', '20742', '9.4']]\n",
            "Data has been saved to csv_files/S24136.csv\n",
            "Headers for S24173: ['S.N.', 'Candidate', 'Party', 'EVM Votes', 'Postal Votes', 'Total Votes', '% of Votes']\n",
            "Rows for S24173: [['1', 'ALOK KUSHWAHA', 'Bahujan Samaj Party', '8256', '67', '8323', '3.4'], ['2', 'MUKESH SINGH CHAUHAN', 'Indian National Congress', '88656', '405', '89061', '36.41'], ['3', 'O. P. SRIVASTAVA', 'Bharatiya Janata Party', '142314', '634', '142948', '58.43']]\n",
            "Data has been saved to csv_files/S24173.csv\n",
            "Headers for S24292: ['S.N.', 'Candidate', 'Party', 'EVM Votes', 'Postal Votes', 'Total Votes', '% of Votes']\n",
            "Rows for S24292: [['1', 'RAKESH KUMAR YADAV', 'Samajwadi Party', '86971', '149', '87120', '46.76'], ['2', 'SHAILESH KUMAR SINGH \"SHAILU\"', 'Bharatiya Janata Party', '77611', '72', '77683', '41.7'], ['3', 'MOHD. HARIS KHAN \"FIDA BABA\"', 'Bahujan Samaj Party', '16960', '23', '16983', '9.12']]\n",
            "Data has been saved to csv_files/S24292.csv\n",
            "Headers for S24403: ['S.N.', 'Candidate', 'Party', 'EVM Votes', 'Postal Votes', 'Total Votes', '% of Votes']\n",
            "Rows for S24403: [['1', 'RAVI SINGH', 'Bahujan Samaj Party', '22366', '29', '22395', '11.37'], ['2', 'VIJAY SINGH', 'Samajwadi Party', '82450', '337', '82787', '42.02'], ['3', 'SARAVAN KUMAR', 'Bharatiya Janata Party', '79432', '147', '79579', '40.39']]\n",
            "Data has been saved to csv_files/S24403.csv\n",
            "Headers for S2562: ['S.N.', 'Candidate', 'Party', 'EVM Votes', 'Postal Votes', 'Total Votes', '% of Votes']\n",
            "Rows for S2562: [['1', 'ANJU BEGAM', 'Indian National Congress', '91403', '76', '91479', '41.29'], ['2', 'BHASKAR SARKAR', 'Bharatiya Janata Party', '17265', '23', '17288', '7.8'], ['3', 'REYAT HOSSAIN SARKAR', 'All India Trinamool Congress', '107018', '78', '107096', '48.34']]\n",
            "Data has been saved to csv_files/S2562.csv\n",
            "Headers for S25113: ['S.N.', 'Candidate', 'Party', 'EVM Votes', 'Postal Votes', 'Total Votes', '% of Votes']\n",
            "Rows for S25113: [['1', 'TANMOY BHATTACHARYA', 'Communist Party of India  (Marxist)', '26567', '168', '26735', '16.62'], ['2', 'SAJAL GHOSH', 'Bharatiya Janata Party', '60881', '222', '61103', '37.98'], ['3', 'SAYANTIKA BANERJEE', 'All India Trinamool Congress', '68899', '352', '69251', '43.04']]\n",
            "Data has been saved to csv_files/S25113.csv\n"
          ]
        }
      ]
    },
    {
      "cell_type": "code",
      "source": [
        "import shutil\n",
        "\n",
        "directory_to_compress = '/content/csv_files'\n",
        "output_zip_file = '/content/csv_files.zip'\n",
        "shutil.make_archive(output_zip_file.replace('.zip', ''), 'zip', directory_to_compress)"
      ],
      "metadata": {
        "colab": {
          "base_uri": "https://localhost:8080/",
          "height": 36
        },
        "id": "KFePeP80uoQR",
        "outputId": "f42bfec4-8cbb-4d38-ab02-cce69848fd93"
      },
      "execution_count": 8,
      "outputs": [
        {
          "output_type": "execute_result",
          "data": {
            "text/plain": [
              "'/content/csv_files.zip'"
            ],
            "application/vnd.google.colaboratory.intrinsic+json": {
              "type": "string"
            }
          },
          "metadata": {},
          "execution_count": 8
        }
      ]
    }
  ]
}