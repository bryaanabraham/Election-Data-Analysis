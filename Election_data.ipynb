{
  "nbformat": 4,
  "nbformat_minor": 0,
  "metadata": {
    "colab": {
      "provenance": [],
      "include_colab_link": true
    },
    "kernelspec": {
      "name": "python3",
      "display_name": "Python 3"
    },
    "language_info": {
      "name": "python"
    }
  },
  "cells": [
    {
      "cell_type": "markdown",
      "metadata": {
        "id": "view-in-github",
        "colab_type": "text"
      },
      "source": [
        "<a href=\"https://colab.research.google.com/github/bryaanabraham/Election-Data-Analysis/blob/main/Election_data.ipynb\" target=\"_parent\"><img src=\"https://colab.research.google.com/assets/colab-badge.svg\" alt=\"Open In Colab\"/></a>"
      ]
    },
    {
      "cell_type": "markdown",
      "source": [
        "### Dependencies"
      ],
      "metadata": {
        "id": "CVmi9ODcI0NU"
      }
    },
    {
      "cell_type": "code",
      "source": [
        "import requests\n",
        "from bs4 import BeautifulSoup\n",
        "import pandas as pd"
      ],
      "metadata": {
        "id": "2mWa7PHWngl7"
      },
      "execution_count": 27,
      "outputs": []
    },
    {
      "cell_type": "markdown",
      "source": [
        "###Data Extraction:\n",
        "- The following snippet is a function to extract data from the provided url.\n",
        "- The data is exctracted and saved to a file named as per your choice"
      ],
      "metadata": {
        "id": "48F9psm7IPXH"
      }
    },
    {
      "cell_type": "code",
      "source": [
        "def extract_data(url, name):\n",
        "  response = requests.get(url)\n",
        "  html_content = response.content\n",
        "\n",
        "  # Parse HTML content\n",
        "  soup = BeautifulSoup(html_content, 'html.parser')\n",
        "\n",
        "  # Locate the table\n",
        "  table = soup.find('table', class_='table table-striped table-bordered')\n",
        "\n",
        "  if table is None:\n",
        "      print(f\"Table not found for URL: {url}\")\n",
        "      return\n",
        "\n",
        "  # Extract headers\n",
        "  headers = [header.text.strip() for header in table.find_all('th')]\n",
        "\n",
        "  headers = headers[:7]\n",
        "  print(f\"Headers for {name}: {headers}\")\n",
        "\n",
        "  # Extract rows\n",
        "  rows = []\n",
        "  for row in table.find('tbody').find_all('tr'):\n",
        "      cells = row.find_all('td')\n",
        "      row_data = [cell.text.strip() for cell in cells[:7]]\n",
        "      row_data.append(name)  # Add the name to the row\n",
        "      rows.append(row_data)\n",
        "\n",
        "  df = pd.DataFrame(rows, columns=headers)\n",
        "  print('---------------------------------------------------------------------------------------------------------------------------------------------------')\n",
        "  return df"
      ],
      "metadata": {
        "id": "CgwzS_HyWasD"
      },
      "execution_count": 28,
      "outputs": []
    },
    {
      "cell_type": "markdown",
      "source": [
        "# Web Scraping\n",
        "\n",
        "### 1. WebScrape funtion\n",
        "- the web scrape funtion is designed to perfrom heirachical scraping to extract data from links within links as needed\n",
        "- it returns a set of urs\n",
        "\n",
        "### 2. Initial Fetch\n",
        "- data is extracted from the given url using Beautiful Soup\n",
        "- Unique links are stored in a set named urls\n",
        "\n",
        "### 3. Next Page Navigations\n",
        "- data of foloowing pages needs to be extracted (Heirachical)\n",
        "- the list of urls from the initial fetch are fed into the WebScrape function for the same\n",
        "- result is store in a nav_urls set\n",
        " - We can derive the relevant urls and exclude promotions and advertisements by analysing the set"
      ],
      "metadata": {
        "id": "_LN9fvgOIsSL"
      }
    },
    {
      "cell_type": "code",
      "source": [
        "# WebScrape Function [1]\n",
        "def webScrape(links):\n",
        "  unique_urls = set()\n",
        "  for link in links:\n",
        "    response = requests.get(link)\n",
        "    html_content = response.content\n",
        "    soup = BeautifulSoup(html_content, 'html.parser')\n",
        "\n",
        "    # Extract all links from buttons\n",
        "    buttons = soup.find_all('a')\n",
        "    url = {button['href'] for button in buttons if 'href' in button.attrs}\n",
        "    unique_urls.update(url)\n",
        "\n",
        "    for link in url:\n",
        "        print(link)\n",
        "    print(f\"Total Links: {len(unique_urls)}\")\n",
        "  return unique_urls"
      ],
      "metadata": {
        "id": "3ChZubPoDNhk"
      },
      "execution_count": 29,
      "outputs": []
    },
    {
      "cell_type": "code",
      "source": [
        "# Initial Fetch [2]\n",
        "url = [\"https://results.eci.gov.in/\"]\n",
        "urls = webScrape(url)"
      ],
      "metadata": {
        "id": "UgXphJ1CDG8R",
        "outputId": "f848ed6a-c438-4b4f-8499-889408d84162",
        "colab": {
          "base_uri": "https://localhost:8080/"
        }
      },
      "execution_count": 30,
      "outputs": [
        {
          "output_type": "stream",
          "name": "stdout",
          "text": [
            "https://results.eci.gov.in/AcResultGen2ndJune2024/index.htm\n",
            "https://results.eci.gov.in/AcResultGenJune2024/index.htm\n",
            "https://results.eci.gov.in/PcResultGenJune2024/index.htm\n",
            "https://play.google.com/store/apps/details?id=com.eci.citizen\n",
            "index.htm\n",
            "https://results.eci.gov.in/AcResultByeJune2024/\n",
            "https://apps.apple.com/in/app/voter-helpline/id1456535004\n",
            "Total Links: 7\n"
          ]
        }
      ]
    },
    {
      "cell_type": "code",
      "source": [
        "# excluding false positives\n",
        "urls = [item for item in urls if 'https'in item]\n",
        "for link in urls:\n",
        "    print(link)\n",
        "print(f\"Total Links: {len(urls)}\")"
      ],
      "metadata": {
        "colab": {
          "base_uri": "https://localhost:8080/"
        },
        "id": "eUQA6-01FnrR",
        "outputId": "effcce8a-16b9-4867-9a75-e520ee841326"
      },
      "execution_count": 31,
      "outputs": [
        {
          "output_type": "stream",
          "name": "stdout",
          "text": [
            "https://results.eci.gov.in/AcResultGen2ndJune2024/index.htm\n",
            "https://results.eci.gov.in/AcResultGenJune2024/index.htm\n",
            "https://results.eci.gov.in/AcResultByeJune2024/\n",
            "https://results.eci.gov.in/PcResultGenJune2024/index.htm\n",
            "https://play.google.com/store/apps/details?id=com.eci.citizen\n",
            "https://apps.apple.com/in/app/voter-helpline/id1456535004\n",
            "Total Links: 6\n"
          ]
        }
      ]
    },
    {
      "cell_type": "code",
      "source": [
        "# Extracting next page navigations from urls [3]\n",
        "nav_urls = webScrape(urls)"
      ],
      "metadata": {
        "colab": {
          "base_uri": "https://localhost:8080/"
        },
        "id": "FFrqQEUkGsWm",
        "outputId": "1bf36936-097b-4d3e-a2e8-1d1acff19e7a"
      },
      "execution_count": 32,
      "outputs": [
        {
          "output_type": "stream",
          "name": "stdout",
          "text": [
            "./hi/index.htm\n",
            "https://play.google.com/store/apps/details?id=com.eci.citizen\n",
            "partywiseresult-S02.htm\n",
            "index.htm\n",
            "partywiseresult-S21.htm\n",
            "#\n",
            "https://apps.apple.com/in/app/voter-helpline/id1456535004\n",
            "Total Links: 7\n",
            "./hi/index.htm\n",
            "partywiseresult-S01.htm\n",
            "https://play.google.com/store/apps/details?id=com.eci.citizen\n",
            "index.htm\n",
            "#\n",
            "partywiseresult-S18.htm\n",
            "https://apps.apple.com/in/app/voter-helpline/id1456535004\n",
            "Total Links: 9\n",
            "./hi/index.htm\n",
            "candidateswise-S04195.htm\n",
            "candidateswise-S2731.htm\n",
            "candidateswise-S0842.htm\n",
            "candidateswise-S0839.htm\n",
            "candidateswise-S24403.htm\n",
            "candidateswise-S0821.htm\n",
            "#\n",
            "candidateswise-S0837.htm\n",
            "candidateswise-S0626.htm\n",
            "candidateswise-S22233.htm\n",
            "candidateswise-S0845.htm\n",
            "candidateswise-S24173.htm\n",
            "candidateswise-S24136.htm\n",
            "candidateswise-S2971.htm\n",
            "candidateswise-S20165.htm\n",
            "candidateswise-S0683.htm\n",
            "candidateswise-S0818.htm\n",
            "https://play.google.com/store/apps/details?id=com.eci.citizen\n",
            "candidateswise-S237.htm\n",
            "candidateswise-S2562.htm\n",
            "index.htm\n",
            "candidateswise-S24292.htm\n",
            "candidateswise-S0721.htm\n",
            "candidateswise-S25113.htm\n",
            "candidateswise-S0685.htm\n",
            "https://apps.apple.com/in/app/voter-helpline/id1456535004\n",
            "candidateswise-S06108.htm\n",
            "candidateswise-S1036.htm\n",
            "candidateswise-S06136.htm\n",
            "Total Links: 34\n",
            "\n",
            "partywisewinresultState-1888.htm\n",
            "https://results.eci.gov.in/AcResultGenJune2024/index.htm\n",
            "partywisewinresultState-804.htm\n",
            "partywisewinresultState-772.htm\n",
            "partywisewinresultState-2070.htm\n",
            "#\n",
            "partywisewinresultState-582.htm\n",
            "partywisewinresultState-834.htm\n",
            "partywisewinresultState-742.htm\n",
            "partywisewinresultState-1142.htm\n",
            "partywisewinresultState-544.htm\n",
            "partywisewinresultState-2484.htm\n",
            "partywisewinresultState-743.htm\n",
            "hi/index.htm\n",
            "partywisewinresultState-860.htm\n",
            "partywisewinresultState-1458.htm\n",
            "partywisewinresultState-1998.htm\n",
            "partywisewinresultState-911.htm\n",
            "partywisewinresultState-3165.htm\n",
            "partywisewinresultState-547.htm\n",
            "partywisewinresultState-2757.htm\n",
            "partywisewinresultState-140.htm\n",
            "partywisewinresultState-664.htm\n",
            "partywisewinresultState-1745.htm\n",
            "https://play.google.com/store/apps/details?id=com.eci.citizen\n",
            "index.htm\n",
            "partywisewinresultState-3388.htm\n",
            "partywisewinresultState-2989.htm\n",
            "partywisewinresultState-118.htm\n",
            "partywisewinresultState-160.htm\n",
            "partywisewinresultState-1658.htm\n",
            "https://apps.apple.com/in/app/voter-helpline/id1456535004\n",
            "partywisewinresultState-1.htm\n",
            "https://results.eci.gov.in/AcResultByeJune2024/index.htm\n",
            "partywisewinresultState-805.htm\n",
            "partywisewinresultState-3529.htm\n",
            "partywisewinresultState-83.htm\n",
            "partywisewinresultState-3369.htm\n",
            "partywisewinresultState-852.htm\n",
            "partywisewinresultState-1680.htm\n",
            "partywisewinresultState-1847.htm\n",
            "partywisewinresultState-3482.htm\n",
            "partywisewinresultState-1584.htm\n",
            "partywisewinresultState-369.htm\n",
            "partywisewinresultState-3620.htm\n",
            "partywisewinresultState-1534.htm\n",
            "partywisewinresultState-1420.htm\n",
            "partywisewinresultState-1046.htm\n",
            "partywisewinresultState-545.htm\n",
            "Total Links: 80\n",
            "/store/apps/details?id=com.gaocang.scanner\n",
            "/store/books\n",
            "/store/apps/category/COMMUNICATION\n",
            "/store/movies\n",
            "/store/apps/datasafety?id=com.eci.citizen\n",
            "/store/points/enroll\n",
            "https://eci.gov.in\n",
            "/store/apps/details?id=com.tsamadhan.samadhan\n",
            "/store/apps/details?id=com.pal.getcall.history.callhistorymanager.calldetails\n",
            "/store/apps/details?id=agecalculatorbirthdate.ageestimationfinder\n",
            "https://support.google.com/googleplay/?p=report_content\n",
            "https://support.google.com/googleplay/answer/7007852\n",
            "/store/apps/category/FAMILY\n",
            "https://support.google.com/googleplay?p=data-safety&hl=en\n",
            "https://policies.google.com/privacy\n",
            "https://maps.google.com/?q=Nirvachan%20Sadan%0ANew%20Delhi,%20Delhi%20110001%0AIndia\n",
            "https://support.google.com/googleplay?p=pff_parentguide\n",
            "https://support.google.com/googleplay/answer/134336\n",
            "/store/apps/collection/cluster?gsr=SlhqGGFVeHVYTy9vMEpUWWJtZnFlZm1lZ1E9PcICOwoTCg9jb20uZWNpLmNpdGl6ZW4QBxgIMAE4AEoaCAEQABoOVm90ZXIgSGVscGxpbmUgACgAMABQAFgB:S:ANO1ljJByRg\n",
            "/store/pass/getstarted\n",
            "https://play.google.com/about/giftcards\n",
            "http://developer.android.com/index.html\n",
            "https://play.google.com/intl/en_us/about/play-terms.html\n",
            "https://support.google.com/googleplay/?p=about_play\n",
            "/store/apps/developer?id=Election+Commission+of+India\n",
            "https://myaccount.google.com/termsofservice\n",
            "/store/games\n",
            "https://results.eci.gov.in/privacy/index.html\n",
            "https://store.google.com/?playredirect=true\n",
            "mailto:it-supporthead@eci.gov.in\n",
            "/store/apps\n",
            "/store/apps/details?id=com.truecaller\n",
            "/redeem\n",
            "Total Links: 113\n",
            "https://apps.apple.com/in/app/tangedco/id1289553490\n",
            "https://apps.apple.com/in/developer/eci/id1455719540\n",
            "https://www.apple.com/in/retail/\n",
            "https://www.apple.com/in/ios/app-store/\n",
            "https://www.apple.com/in/shop/goto/buy_accessories\n",
            "https://apps.apple.com/in/app/saksham-eci/id1497864568\n",
            "https://www.apple.com/in/mac/\n",
            "https://www.apple.com/in/legal/\n",
            "https://eci.gov.in/website-policy/privacy-policy-r5/\n",
            "https://apps.apple.com/in/app/cvigil/id1455719541\n",
            "https://apps.apple.com/in/app/my-fastag/id1492581255\n",
            "https://apps.apple.com/in/app/bsnl-selfcare/id1586971313\n",
            "https://www.apple.com/in/\n",
            "https://www.apple.com/in/search\n",
            "https://apps.apple.com/story/id1538632801\n",
            "https://www.apple.com/in/shop/goto/bag\n",
            "https://apps.apple.com/in/app/my-excitel/id1209076764\n",
            "https://www.apple.com/in/tv-home/\n",
            "https://www.apple.com/in/shop/goto/store\n",
            "https://support.apple.com/en-in/?cid=gn-ols-home-hp-tab\n",
            "https://apps.apple.com/in/app/bloapp-eci/id6449996333\n",
            "https://apps.apple.com/in/charts/iphone/productivity-apps/6007\n",
            "https://www.apple.com/in/legal/privacy/\n",
            "https://apps.apple.com/in/app/cam-scan-for-pdf-doc-scanner/id1601775710\n",
            "https://www.apple.com/in/ipad/\n",
            "https://itunes.apple.com/in/genre/id6007\n",
            "https://apps.apple.com/in/app/kyc-eci/id1604172836\n",
            "https://www.apple.com/in/entertainment/\n",
            "https://apps.apple.com/in/app/umang/id1236448857\n",
            "https://www.apple.com/choose-country-region/\n",
            "https://apps.apple.com/in/app/voter-turnout-app/id1536366882\n",
            "https://results.eci.gov.in/privacy/index.html\n",
            "https://www.apple.com/in/sitemap/\n",
            "https://www.apple.com/in/airpods/\n",
            "https://apps.apple.com/in/app/garuda-app/id1634928041\n",
            "https://locate.apple.com/in/en/\n",
            "https://www.apple.com/in/watch/\n",
            "https://www.apple.com/in/shop/goto/help/sales_refunds\n",
            "https://www.apple.com/in/iphone/\n",
            "https://www.apple.com/in/legal/terms/site.html\n",
            "Total Links: 152\n"
          ]
        }
      ]
    },
    {
      "cell_type": "markdown",
      "source": [
        "    Relevant Links:\n",
        "    - AcResultGenJune\n",
        "    - AcResultByeJune\n",
        "    - Party Wise result\n",
        "    - Candidate wise result\n",
        "  \n",
        "Links need to be further analysed to see if they hold more data in the next pages whereas domain names can be be extracted <br>(This is subjective to Websites, this was discovered upon exploration)"
      ],
      "metadata": {
        "id": "x8S4xm9-DRPL"
      }
    },
    {
      "cell_type": "markdown",
      "source": [
        "# Heirarchical Extraction\n",
        "\n",
        "- this is the process of choosing to scrape for more links from a website or extracting data or simply ignoring\n",
        "- on WebScrape the set includes links and domain names\n",
        "- the domain names consist tabular data (subjective to website)\n",
        "- the links navigate to other websites which contain data or more links(only some of which need to be analysed)\n",
        "- Item is chosen for subscraping or extraction based on the list of relevant links (substrings)"
      ],
      "metadata": {
        "id": "UD08G5K8Vcrg"
      }
    },
    {
      "cell_type": "code",
      "source": [
        "# Directory to store Files\n",
        "import os\n",
        "os.makedirs('csv_files', exist_ok=True)\n",
        "location = 'csv_files'"
      ],
      "metadata": {
        "id": "d35smhxXnCtr"
      },
      "execution_count": 33,
      "outputs": []
    },
    {
      "cell_type": "code",
      "source": [
        "relevant_links = ['AcResultGenJune','AcResultByeJune']\n",
        "relevant_domain_names = ['partywisewinresult','candidateswise', ]\n",
        "#filtered_links = [item for item in absolute_links if 'candidateswise'in item]"
      ],
      "metadata": {
        "id": "ULruUBBvEHhe"
      },
      "execution_count": 34,
      "outputs": []
    },
    {
      "cell_type": "code",
      "source": [
        "def save2csv(df, name, location):\n",
        "  csv_file_path = f\"{location}/{name}.csv\"\n",
        "  df.to_csv(csv_file_path, index=False)"
      ],
      "metadata": {
        "id": "cLjlkjkI0IIR"
      },
      "execution_count": 35,
      "outputs": []
    },
    {
      "cell_type": "code",
      "source": [
        "# Heirarchical Extraction\n",
        "def check_urls(urls, relevant_links, relevant_domain_names):\n",
        "  for url in urls:\n",
        "    match_found = False\n",
        "\n",
        "    for domain in relevant_domain_names:\n",
        "      if domain in url:\n",
        "        match_found = True\n",
        "\n",
        "        if domain == 'AcResultGenJune':\n",
        "          base_url = \"https://results.eci.gov.in/AcResultByeJune\"\n",
        "          url = base_url + url\n",
        "          name = url.split('-')[-1].split('.')[0]\n",
        "          df = extract_data(url,name)\n",
        "          save2csv(df,domain,location)\n",
        "          break\n",
        "\n",
        "        if domain == 'AcResultByeJune':\n",
        "          # the website contains tabulated data under 'Constituencywise' whereas 'candidatewise' has it in the form of ccards\n",
        "          url = url.replace('candidateswise-', 'Constituencywise')\n",
        "          # Convert relative URLs to absolute URLs\n",
        "          base_url = \"https://results.eci.gov.in/AcResultByeJune2024/\"\n",
        "          url = base_url + url\n",
        "          name = url.split('-')[-1].split('.')[0]\n",
        "          df = extract_data(url,name)\n",
        "          save2csv(df,domain,location)\n",
        "          break\n",
        "\n",
        "    if not match_found:\n",
        "      for link in relevant_links:\n",
        "        if link in url:\n",
        "          urls.update(webScrape(link))\n",
        "          match_found = True\n",
        "          break"
      ],
      "metadata": {
        "id": "eTLh8JhONcYz"
      },
      "execution_count": 36,
      "outputs": []
    },
    {
      "cell_type": "code",
      "source": [
        "check_urls(nav_urls,relevant_links,relevant_domain_names)"
      ],
      "metadata": {
        "colab": {
          "base_uri": "https://localhost:8080/",
          "height": 298
        },
        "id": "6uGcgyt33AfN",
        "outputId": "45f4ef64-2578-4736-8129-b89a9960c91f"
      },
      "execution_count": 37,
      "outputs": [
        {
          "output_type": "error",
          "ename": "MissingSchema",
          "evalue": "Invalid URL 'A': No scheme supplied. Perhaps you meant https://A?",
          "traceback": [
            "\u001b[0;31m---------------------------------------------------------------------------\u001b[0m",
            "\u001b[0;31mMissingSchema\u001b[0m                             Traceback (most recent call last)",
            "\u001b[0;32m<ipython-input-37-1fedc95d034e>\u001b[0m in \u001b[0;36m<cell line: 1>\u001b[0;34m()\u001b[0m\n\u001b[0;32m----> 1\u001b[0;31m \u001b[0mcheck_urls\u001b[0m\u001b[0;34m(\u001b[0m\u001b[0mnav_urls\u001b[0m\u001b[0;34m,\u001b[0m\u001b[0mrelevant_links\u001b[0m\u001b[0;34m,\u001b[0m\u001b[0mrelevant_domain_names\u001b[0m\u001b[0;34m)\u001b[0m\u001b[0;34m\u001b[0m\u001b[0;34m\u001b[0m\u001b[0m\n\u001b[0m",
            "\u001b[0;32m<ipython-input-36-b27eb935bdd3>\u001b[0m in \u001b[0;36mcheck_urls\u001b[0;34m(urls, relevant_links, relevant_domain_names)\u001b[0m\n\u001b[1;32m     30\u001b[0m       \u001b[0;32mfor\u001b[0m \u001b[0mlink\u001b[0m \u001b[0;32min\u001b[0m \u001b[0mrelevant_links\u001b[0m\u001b[0;34m:\u001b[0m\u001b[0;34m\u001b[0m\u001b[0;34m\u001b[0m\u001b[0m\n\u001b[1;32m     31\u001b[0m         \u001b[0;32mif\u001b[0m \u001b[0mlink\u001b[0m \u001b[0;32min\u001b[0m \u001b[0murl\u001b[0m\u001b[0;34m:\u001b[0m\u001b[0;34m\u001b[0m\u001b[0;34m\u001b[0m\u001b[0m\n\u001b[0;32m---> 32\u001b[0;31m           \u001b[0murls\u001b[0m\u001b[0;34m.\u001b[0m\u001b[0mupdate\u001b[0m\u001b[0;34m(\u001b[0m\u001b[0mwebScrape\u001b[0m\u001b[0;34m(\u001b[0m\u001b[0mlink\u001b[0m\u001b[0;34m)\u001b[0m\u001b[0;34m)\u001b[0m\u001b[0;34m\u001b[0m\u001b[0;34m\u001b[0m\u001b[0m\n\u001b[0m\u001b[1;32m     33\u001b[0m           \u001b[0mmatch_found\u001b[0m \u001b[0;34m=\u001b[0m \u001b[0;32mTrue\u001b[0m\u001b[0;34m\u001b[0m\u001b[0;34m\u001b[0m\u001b[0m\n\u001b[1;32m     34\u001b[0m           \u001b[0;32mbreak\u001b[0m\u001b[0;34m\u001b[0m\u001b[0;34m\u001b[0m\u001b[0m\n",
            "\u001b[0;32m<ipython-input-29-8d5b545b5f09>\u001b[0m in \u001b[0;36mwebScrape\u001b[0;34m(links)\u001b[0m\n\u001b[1;32m      3\u001b[0m   \u001b[0munique_urls\u001b[0m \u001b[0;34m=\u001b[0m \u001b[0mset\u001b[0m\u001b[0;34m(\u001b[0m\u001b[0;34m)\u001b[0m\u001b[0;34m\u001b[0m\u001b[0;34m\u001b[0m\u001b[0m\n\u001b[1;32m      4\u001b[0m   \u001b[0;32mfor\u001b[0m \u001b[0mlink\u001b[0m \u001b[0;32min\u001b[0m \u001b[0mlinks\u001b[0m\u001b[0;34m:\u001b[0m\u001b[0;34m\u001b[0m\u001b[0;34m\u001b[0m\u001b[0m\n\u001b[0;32m----> 5\u001b[0;31m     \u001b[0mresponse\u001b[0m \u001b[0;34m=\u001b[0m \u001b[0mrequests\u001b[0m\u001b[0;34m.\u001b[0m\u001b[0mget\u001b[0m\u001b[0;34m(\u001b[0m\u001b[0mlink\u001b[0m\u001b[0;34m)\u001b[0m\u001b[0;34m\u001b[0m\u001b[0;34m\u001b[0m\u001b[0m\n\u001b[0m\u001b[1;32m      6\u001b[0m     \u001b[0mhtml_content\u001b[0m \u001b[0;34m=\u001b[0m \u001b[0mresponse\u001b[0m\u001b[0;34m.\u001b[0m\u001b[0mcontent\u001b[0m\u001b[0;34m\u001b[0m\u001b[0;34m\u001b[0m\u001b[0m\n\u001b[1;32m      7\u001b[0m     \u001b[0msoup\u001b[0m \u001b[0;34m=\u001b[0m \u001b[0mBeautifulSoup\u001b[0m\u001b[0;34m(\u001b[0m\u001b[0mhtml_content\u001b[0m\u001b[0;34m,\u001b[0m \u001b[0;34m'html.parser'\u001b[0m\u001b[0;34m)\u001b[0m\u001b[0;34m\u001b[0m\u001b[0;34m\u001b[0m\u001b[0m\n",
            "\u001b[0;32m/usr/local/lib/python3.10/dist-packages/requests/api.py\u001b[0m in \u001b[0;36mget\u001b[0;34m(url, params, **kwargs)\u001b[0m\n\u001b[1;32m     71\u001b[0m     \"\"\"\n\u001b[1;32m     72\u001b[0m \u001b[0;34m\u001b[0m\u001b[0m\n\u001b[0;32m---> 73\u001b[0;31m     \u001b[0;32mreturn\u001b[0m \u001b[0mrequest\u001b[0m\u001b[0;34m(\u001b[0m\u001b[0;34m\"get\"\u001b[0m\u001b[0;34m,\u001b[0m \u001b[0murl\u001b[0m\u001b[0;34m,\u001b[0m \u001b[0mparams\u001b[0m\u001b[0;34m=\u001b[0m\u001b[0mparams\u001b[0m\u001b[0;34m,\u001b[0m \u001b[0;34m**\u001b[0m\u001b[0mkwargs\u001b[0m\u001b[0;34m)\u001b[0m\u001b[0;34m\u001b[0m\u001b[0;34m\u001b[0m\u001b[0m\n\u001b[0m\u001b[1;32m     74\u001b[0m \u001b[0;34m\u001b[0m\u001b[0m\n\u001b[1;32m     75\u001b[0m \u001b[0;34m\u001b[0m\u001b[0m\n",
            "\u001b[0;32m/usr/local/lib/python3.10/dist-packages/requests/api.py\u001b[0m in \u001b[0;36mrequest\u001b[0;34m(method, url, **kwargs)\u001b[0m\n\u001b[1;32m     57\u001b[0m     \u001b[0;31m# cases, and look like a memory leak in others.\u001b[0m\u001b[0;34m\u001b[0m\u001b[0;34m\u001b[0m\u001b[0m\n\u001b[1;32m     58\u001b[0m     \u001b[0;32mwith\u001b[0m \u001b[0msessions\u001b[0m\u001b[0;34m.\u001b[0m\u001b[0mSession\u001b[0m\u001b[0;34m(\u001b[0m\u001b[0;34m)\u001b[0m \u001b[0;32mas\u001b[0m \u001b[0msession\u001b[0m\u001b[0;34m:\u001b[0m\u001b[0;34m\u001b[0m\u001b[0;34m\u001b[0m\u001b[0m\n\u001b[0;32m---> 59\u001b[0;31m         \u001b[0;32mreturn\u001b[0m \u001b[0msession\u001b[0m\u001b[0;34m.\u001b[0m\u001b[0mrequest\u001b[0m\u001b[0;34m(\u001b[0m\u001b[0mmethod\u001b[0m\u001b[0;34m=\u001b[0m\u001b[0mmethod\u001b[0m\u001b[0;34m,\u001b[0m \u001b[0murl\u001b[0m\u001b[0;34m=\u001b[0m\u001b[0murl\u001b[0m\u001b[0;34m,\u001b[0m \u001b[0;34m**\u001b[0m\u001b[0mkwargs\u001b[0m\u001b[0;34m)\u001b[0m\u001b[0;34m\u001b[0m\u001b[0;34m\u001b[0m\u001b[0m\n\u001b[0m\u001b[1;32m     60\u001b[0m \u001b[0;34m\u001b[0m\u001b[0m\n\u001b[1;32m     61\u001b[0m \u001b[0;34m\u001b[0m\u001b[0m\n",
            "\u001b[0;32m/usr/local/lib/python3.10/dist-packages/requests/sessions.py\u001b[0m in \u001b[0;36mrequest\u001b[0;34m(self, method, url, params, data, headers, cookies, files, auth, timeout, allow_redirects, proxies, hooks, stream, verify, cert, json)\u001b[0m\n\u001b[1;32m    573\u001b[0m             \u001b[0mhooks\u001b[0m\u001b[0;34m=\u001b[0m\u001b[0mhooks\u001b[0m\u001b[0;34m,\u001b[0m\u001b[0;34m\u001b[0m\u001b[0;34m\u001b[0m\u001b[0m\n\u001b[1;32m    574\u001b[0m         )\n\u001b[0;32m--> 575\u001b[0;31m         \u001b[0mprep\u001b[0m \u001b[0;34m=\u001b[0m \u001b[0mself\u001b[0m\u001b[0;34m.\u001b[0m\u001b[0mprepare_request\u001b[0m\u001b[0;34m(\u001b[0m\u001b[0mreq\u001b[0m\u001b[0;34m)\u001b[0m\u001b[0;34m\u001b[0m\u001b[0;34m\u001b[0m\u001b[0m\n\u001b[0m\u001b[1;32m    576\u001b[0m \u001b[0;34m\u001b[0m\u001b[0m\n\u001b[1;32m    577\u001b[0m         \u001b[0mproxies\u001b[0m \u001b[0;34m=\u001b[0m \u001b[0mproxies\u001b[0m \u001b[0;32mor\u001b[0m \u001b[0;34m{\u001b[0m\u001b[0;34m}\u001b[0m\u001b[0;34m\u001b[0m\u001b[0;34m\u001b[0m\u001b[0m\n",
            "\u001b[0;32m/usr/local/lib/python3.10/dist-packages/requests/sessions.py\u001b[0m in \u001b[0;36mprepare_request\u001b[0;34m(self, request)\u001b[0m\n\u001b[1;32m    484\u001b[0m \u001b[0;34m\u001b[0m\u001b[0m\n\u001b[1;32m    485\u001b[0m         \u001b[0mp\u001b[0m \u001b[0;34m=\u001b[0m \u001b[0mPreparedRequest\u001b[0m\u001b[0;34m(\u001b[0m\u001b[0;34m)\u001b[0m\u001b[0;34m\u001b[0m\u001b[0;34m\u001b[0m\u001b[0m\n\u001b[0;32m--> 486\u001b[0;31m         p.prepare(\n\u001b[0m\u001b[1;32m    487\u001b[0m             \u001b[0mmethod\u001b[0m\u001b[0;34m=\u001b[0m\u001b[0mrequest\u001b[0m\u001b[0;34m.\u001b[0m\u001b[0mmethod\u001b[0m\u001b[0;34m.\u001b[0m\u001b[0mupper\u001b[0m\u001b[0;34m(\u001b[0m\u001b[0;34m)\u001b[0m\u001b[0;34m,\u001b[0m\u001b[0;34m\u001b[0m\u001b[0;34m\u001b[0m\u001b[0m\n\u001b[1;32m    488\u001b[0m             \u001b[0murl\u001b[0m\u001b[0;34m=\u001b[0m\u001b[0mrequest\u001b[0m\u001b[0;34m.\u001b[0m\u001b[0murl\u001b[0m\u001b[0;34m,\u001b[0m\u001b[0;34m\u001b[0m\u001b[0;34m\u001b[0m\u001b[0m\n",
            "\u001b[0;32m/usr/local/lib/python3.10/dist-packages/requests/models.py\u001b[0m in \u001b[0;36mprepare\u001b[0;34m(self, method, url, headers, files, data, params, auth, cookies, hooks, json)\u001b[0m\n\u001b[1;32m    366\u001b[0m \u001b[0;34m\u001b[0m\u001b[0m\n\u001b[1;32m    367\u001b[0m         \u001b[0mself\u001b[0m\u001b[0;34m.\u001b[0m\u001b[0mprepare_method\u001b[0m\u001b[0;34m(\u001b[0m\u001b[0mmethod\u001b[0m\u001b[0;34m)\u001b[0m\u001b[0;34m\u001b[0m\u001b[0;34m\u001b[0m\u001b[0m\n\u001b[0;32m--> 368\u001b[0;31m         \u001b[0mself\u001b[0m\u001b[0;34m.\u001b[0m\u001b[0mprepare_url\u001b[0m\u001b[0;34m(\u001b[0m\u001b[0murl\u001b[0m\u001b[0;34m,\u001b[0m \u001b[0mparams\u001b[0m\u001b[0;34m)\u001b[0m\u001b[0;34m\u001b[0m\u001b[0;34m\u001b[0m\u001b[0m\n\u001b[0m\u001b[1;32m    369\u001b[0m         \u001b[0mself\u001b[0m\u001b[0;34m.\u001b[0m\u001b[0mprepare_headers\u001b[0m\u001b[0;34m(\u001b[0m\u001b[0mheaders\u001b[0m\u001b[0;34m)\u001b[0m\u001b[0;34m\u001b[0m\u001b[0;34m\u001b[0m\u001b[0m\n\u001b[1;32m    370\u001b[0m         \u001b[0mself\u001b[0m\u001b[0;34m.\u001b[0m\u001b[0mprepare_cookies\u001b[0m\u001b[0;34m(\u001b[0m\u001b[0mcookies\u001b[0m\u001b[0;34m)\u001b[0m\u001b[0;34m\u001b[0m\u001b[0;34m\u001b[0m\u001b[0m\n",
            "\u001b[0;32m/usr/local/lib/python3.10/dist-packages/requests/models.py\u001b[0m in \u001b[0;36mprepare_url\u001b[0;34m(self, url, params)\u001b[0m\n\u001b[1;32m    437\u001b[0m \u001b[0;34m\u001b[0m\u001b[0m\n\u001b[1;32m    438\u001b[0m         \u001b[0;32mif\u001b[0m \u001b[0;32mnot\u001b[0m \u001b[0mscheme\u001b[0m\u001b[0;34m:\u001b[0m\u001b[0;34m\u001b[0m\u001b[0;34m\u001b[0m\u001b[0m\n\u001b[0;32m--> 439\u001b[0;31m             raise MissingSchema(\n\u001b[0m\u001b[1;32m    440\u001b[0m                 \u001b[0;34mf\"Invalid URL {url!r}: No scheme supplied. \"\u001b[0m\u001b[0;34m\u001b[0m\u001b[0;34m\u001b[0m\u001b[0m\n\u001b[1;32m    441\u001b[0m                 \u001b[0;34mf\"Perhaps you meant https://{url}?\"\u001b[0m\u001b[0;34m\u001b[0m\u001b[0;34m\u001b[0m\u001b[0m\n",
            "\u001b[0;31mMissingSchema\u001b[0m: Invalid URL 'A': No scheme supplied. Perhaps you meant https://A?"
          ]
        }
      ]
    },
    {
      "cell_type": "code",
      "source": [
        "import shutil\n",
        "\n",
        "directory_to_compress = '/content/csv_files'\n",
        "output_zip_file = '/content/csv_files.zip'\n",
        "shutil.make_archive(output_zip_file.replace('.zip', ''), 'zip', directory_to_compress)"
      ],
      "metadata": {
        "colab": {
          "base_uri": "https://localhost:8080/",
          "height": 36
        },
        "id": "KFePeP80uoQR",
        "outputId": "4a6f0825-a417-4488-8d53-72da59a8ad65"
      },
      "execution_count": null,
      "outputs": [
        {
          "output_type": "execute_result",
          "data": {
            "text/plain": [
              "'/content/csv_files.zip'"
            ],
            "application/vnd.google.colaboratory.intrinsic+json": {
              "type": "string"
            }
          },
          "metadata": {},
          "execution_count": 22
        }
      ]
    },
    {
      "cell_type": "markdown",
      "source": [
        "Data downloaded to a zip file for backup"
      ],
      "metadata": {
        "id": "2jj6GIO6Tuqt"
      }
    },
    {
      "cell_type": "markdown",
      "source": [
        "# Merging Relevant Data"
      ],
      "metadata": {
        "id": "usd7gFE_T3Gz"
      }
    },
    {
      "cell_type": "code",
      "source": [],
      "metadata": {
        "id": "cOD7Oi_hT9IC"
      },
      "execution_count": null,
      "outputs": []
    }
  ]
}