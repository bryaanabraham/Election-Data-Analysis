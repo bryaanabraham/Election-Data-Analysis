{
  "nbformat": 4,
  "nbformat_minor": 0,
  "metadata": {
    "colab": {
      "provenance": [],
      "toc_visible": true,
      "include_colab_link": true
    },
    "kernelspec": {
      "name": "python3",
      "display_name": "Python 3"
    },
    "language_info": {
      "name": "python"
    }
  },
  "cells": [
    {
      "cell_type": "markdown",
      "metadata": {
        "id": "view-in-github",
        "colab_type": "text"
      },
      "source": [
        "<a href=\"https://colab.research.google.com/github/bryaanabraham/Election-Data-Analysis/blob/main/Election_data.ipynb\" target=\"_parent\"><img src=\"https://colab.research.google.com/assets/colab-badge.svg\" alt=\"Open In Colab\"/></a>"
      ]
    },
    {
      "cell_type": "markdown",
      "source": [
        "### Dependencies"
      ],
      "metadata": {
        "id": "CVmi9ODcI0NU"
      }
    },
    {
      "cell_type": "code",
      "source": [
        "import requests\n",
        "from bs4 import BeautifulSoup\n",
        "import pandas as pd"
      ],
      "metadata": {
        "id": "2mWa7PHWngl7"
      },
      "execution_count": 20,
      "outputs": []
    },
    {
      "cell_type": "markdown",
      "source": [
        "###Data Extraction:\n",
        "- The following snippet is a function to extract data from the provided url.\n",
        "- The data is exctracted and saved to a file named as per your choice"
      ],
      "metadata": {
        "id": "48F9psm7IPXH"
      }
    },
    {
      "cell_type": "code",
      "source": [
        "def extract_data(url, name):\n",
        "    response = requests.get(url)\n",
        "    html_content = response.content\n",
        "\n",
        "    # Parse HTML content\n",
        "    soup = BeautifulSoup(html_content, 'html.parser')\n",
        "\n",
        "    # Locate the table\n",
        "    table = soup.find('table', class_='table table-striped table-bordered')\n",
        "\n",
        "    if table is None:\n",
        "        print(f\"Table not found for URL: {url}\")\n",
        "        return\n",
        "\n",
        "    # Extract headers\n",
        "    headers = [header.text.strip() for header in table.find_all('th')]\n",
        "\n",
        "    # Keep only the first 7 headers that match the data rows\n",
        "    headers = headers[:7]\n",
        "    print(f\"Headers for {name}: {headers}\")\n",
        "\n",
        "    # Extract rows\n",
        "    rows = []\n",
        "    for row in table.find('tbody').find_all('tr'):\n",
        "        cells = row.find_all('td')\n",
        "        rows.append([cell.text.strip() for cell in cells])\n",
        "    print(f\"Rows for {name}: {rows[:3]}\")\n",
        "\n",
        "    # Check the length of headers and rows to ensure they match\n",
        "    for row in rows:\n",
        "        if len(row) != len(headers):\n",
        "            print(f\"Row length {len(row)} does not match header length {len(headers)}\")\n",
        "\n",
        "    df = pd.DataFrame(rows, columns=headers)\n",
        "    csv_file_path = f\"csv_files/{name}.csv\"\n",
        "    df.to_csv(csv_file_path, index=False)\n",
        "\n",
        "    print(f\"Data has been saved to {csv_file_path}\")\n",
        "    print('---------------------------------------------------------------------------------------------------------------------------------------------------')"
      ],
      "metadata": {
        "id": "CgwzS_HyWasD"
      },
      "execution_count": 46,
      "outputs": []
    },
    {
      "cell_type": "markdown",
      "source": [
        "# Web Scraping\n",
        "\n",
        "### 1. WebScrape funtion\n",
        "- the web scrape funtion is designed to perfrom heirachical scraping to extract data from links within links as needed\n",
        "- it returns a set of urs\n",
        "\n",
        "### 2. Initial Fetch\n",
        "- data is extracted from the given url using Beautiful Soup\n",
        "- Unique links are stored in a set named urls\n",
        "\n",
        "### 3. Next Page Navigations\n",
        "- data of foloowing pages needs to be extracted (Heirachical)\n",
        "- the list of urls from the initial fetch are fed into the WebScrape function for the same\n",
        "- result is store in a nav_urls set\n",
        " - We can derive the relevant urls and exclude promotions and advertisements by analysing the set\n",
        "\n",
        "### 4. Heirarchical Extraction\n",
        "- this is the process of choosing to scrape for more links from a website or extracting data or simply ignoring\n",
        "- on WebScrape the set includes links and domain names\n",
        "- the domain names consist tabular data (subjective to website)\n",
        "- the links navigate to other websites which contain data or more links(only some of which need to be analysed)\n",
        "- Item is chosen for subscraping or extraction based on the list of relevant links (substrings)"
      ],
      "metadata": {
        "id": "_LN9fvgOIsSL"
      }
    },
    {
      "cell_type": "code",
      "source": [
        "# WebScrape Function [1]\n",
        "def webScrape(links):\n",
        "  unique_urls = set()\n",
        "  for link in links:\n",
        "    response = requests.get(link)\n",
        "    html_content = response.content\n",
        "    soup = BeautifulSoup(html_content, 'html.parser')\n",
        "\n",
        "    # Extract all links from buttons\n",
        "    buttons = soup.find_all('a')\n",
        "    url = {button['href'] for button in buttons if 'href' in button.attrs}\n",
        "    unique_urls.update(url)\n",
        "\n",
        "    for link in url:\n",
        "        print(link)\n",
        "    print(f\"Total Links: {len(unique_urls)}\")\n",
        "  return unique_urls"
      ],
      "metadata": {
        "id": "3ChZubPoDNhk"
      },
      "execution_count": 38,
      "outputs": []
    },
    {
      "cell_type": "code",
      "source": [
        "# Initial Fetch [2]\n",
        "url = [\"https://results.eci.gov.in/\"]\n",
        "urls = webScrape(url)"
      ],
      "metadata": {
        "id": "UgXphJ1CDG8R",
        "outputId": "d834f4f2-a9a8-4030-abf6-ad7dd6d0fd51",
        "colab": {
          "base_uri": "https://localhost:8080/"
        }
      },
      "execution_count": 42,
      "outputs": [
        {
          "output_type": "stream",
          "name": "stdout",
          "text": [
            "https://apps.apple.com/in/app/voter-helpline/id1456535004\n",
            "https://results.eci.gov.in/AcResultGenJune2024/index.htm\n",
            "https://results.eci.gov.in/PcResultGenJune2024/index.htm\n",
            "https://play.google.com/store/apps/details?id=com.eci.citizen\n",
            "index.html\n",
            "https://results.eci.gov.in/AcResultGen2ndJune2024/index.htm\n",
            "https://results.eci.gov.in/AcResultByeJune2024/\n",
            "Total Links: 7\n"
          ]
        }
      ]
    },
    {
      "cell_type": "code",
      "source": [
        "# excluding false positives\n",
        "urls = [item for item in urls if 'https'in item]\n",
        "for link in urls:\n",
        "    print(link)\n",
        "print(f\"Total Links: {len(urls)}\")"
      ],
      "metadata": {
        "id": "eUQA6-01FnrR",
        "outputId": "7b35f734-4eb0-41d5-fa97-45df52d160c1",
        "colab": {
          "base_uri": "https://localhost:8080/"
        }
      },
      "execution_count": 43,
      "outputs": [
        {
          "output_type": "stream",
          "name": "stdout",
          "text": [
            "https://results.eci.gov.in/PcResultGenJune2024/index.htm\n",
            "https://play.google.com/store/apps/details?id=com.eci.citizen\n",
            "https://apps.apple.com/in/app/voter-helpline/id1456535004\n",
            "https://results.eci.gov.in/AcResultGen2ndJune2024/index.htm\n",
            "https://results.eci.gov.in/AcResultByeJune2024/\n",
            "https://results.eci.gov.in/AcResultGenJune2024/index.htm\n",
            "Total Links: 6\n"
          ]
        }
      ]
    },
    {
      "cell_type": "code",
      "source": [
        "# Extracting next page navigations from urls [3]\n",
        "nav_urls = webScrape(urls)"
      ],
      "metadata": {
        "id": "FFrqQEUkGsWm",
        "outputId": "85945f6e-245a-40cf-8683-485076c0fe35",
        "colab": {
          "base_uri": "https://localhost:8080/"
        }
      },
      "execution_count": 44,
      "outputs": [
        {
          "output_type": "stream",
          "name": "stdout",
          "text": [
            "\n",
            "partywisewinresultState-2484.htm\n",
            "https://results.eci.gov.in/AcResultByeJune2024/index.htm\n",
            "partywisewinresultState-805.htm\n",
            "partywisewinresultState-1658.htm\n",
            "#\n",
            "partywisewinresultState-834.htm\n",
            "partywisewinresultState-860.htm\n",
            "partywisewinresultState-3165.htm\n",
            "partywisewinresultState-743.htm\n",
            "partywisewinresultState-547.htm\n",
            "partywisewinresultState-804.htm\n",
            "partywisewinresultState-3388.htm\n",
            "partywisewinresultState-83.htm\n",
            "partywisewinresultState-1142.htm\n",
            "partywisewinresultState-2757.htm\n",
            "partywisewinresultState-852.htm\n",
            "partywisewinresultState-1888.htm\n",
            "partywisewinresultState-1847.htm\n",
            "index.htm\n",
            "partywisewinresultState-742.htm\n",
            "partywisewinresultState-1534.htm\n",
            "partywisewinresultState-3529.htm\n",
            "partywisewinresultState-664.htm\n",
            "partywisewinresultState-1.htm\n",
            "partywisewinresultState-1680.htm\n",
            "partywisewinresultState-911.htm\n",
            "partywisewinresultState-1584.htm\n",
            "partywisewinresultState-1745.htm\n",
            "partywisewinresultState-3482.htm\n",
            "partywisewinresultState-1046.htm\n",
            "https://apps.apple.com/in/app/voter-helpline/id1456535004\n",
            "partywisewinresultState-1420.htm\n",
            "partywisewinresultState-2070.htm\n",
            "https://results.eci.gov.in/AcResultGenJune2024/index.htm\n",
            "partywisewinresultState-160.htm\n",
            "partywisewinresultState-140.htm\n",
            "partywisewinresultState-369.htm\n",
            "partywisewinresultState-1998.htm\n",
            "partywisewinresultState-3369.htm\n",
            "hi/index.htm\n",
            "partywisewinresultState-3620.htm\n",
            "partywisewinresultState-545.htm\n",
            "partywisewinresultState-582.htm\n",
            "partywisewinresultState-118.htm\n",
            "https://play.google.com/store/apps/details?id=com.eci.citizen\n",
            "partywisewinresultState-2989.htm\n",
            "partywisewinresultState-1458.htm\n",
            "partywisewinresultState-544.htm\n",
            "partywisewinresultState-772.htm\n",
            "Total Links: 50\n",
            "/store/apps/collection/cluster?gsr=SlhqGDc3bDQwd0JNUVM4NlVUS1ozWFhHdmc9PcICOwoTCg9jb20uZWNpLmNpdGl6ZW4QBxgIMAE4AEoaCAEQABoOVm90ZXIgSGVscGxpbmUgACgAMABQAFgB:S:ANO1ljK4Buw\n",
            "/store/apps/developer?id=Election+Commission+of+India\n",
            "/redeem\n",
            "https://play.google.com/about/giftcards\n",
            "/store/apps/details?id=agecalculatorbirthdate.ageestimationfinder\n",
            "/store/apps/details?id=com.gaocang.scanner\n",
            "/store/movies\n",
            "https://support.google.com/googleplay?p=pff_parentguide\n",
            "/store/pass/getstarted\n",
            "mailto:it-supporthead@eci.gov.in\n",
            "http://developer.android.com/index.html\n",
            "https://support.google.com/googleplay/answer/134336\n",
            "/store/apps/category/FAMILY\n",
            "https://support.google.com/googleplay?p=data-safety&hl=en\n",
            "https://support.google.com/googleplay/?p=about_play\n",
            "/store/apps/category/COMMUNICATION\n",
            "/store/games\n",
            "/store/books\n",
            "https://support.google.com/googleplay/answer/7007852\n",
            "/store/apps\n",
            "https://myaccount.google.com/termsofservice\n",
            "/store/apps/details?id=com.tsamadhan.samadhan\n",
            "https://play.google.com/intl/en_us/about/play-terms.html\n",
            "/store/apps/datasafety?id=com.eci.citizen\n",
            "https://maps.google.com/?q=Nirvachan%20Sadan%0ANew%20Delhi,%20Delhi%20110001%0AIndia\n",
            "https://support.google.com/googleplay/?p=report_content\n",
            "https://eci.gov.in\n",
            "/store/apps/details?id=com.truecaller\n",
            "https://results.eci.gov.in/privacy/index.html\n",
            "/store/points/enroll\n",
            "https://store.google.com/?playredirect=true\n",
            "https://policies.google.com/privacy\n",
            "/store/apps/details?id=com.pal.getcall.history.callhistorymanager.calldetails\n",
            "Total Links: 83\n",
            "https://apps.apple.com/in/app/my-excitel/id1209076764\n",
            "https://www.apple.com/in/iphone/\n",
            "https://www.apple.com/in/airpods/\n",
            "https://www.apple.com/choose-country-region/\n",
            "https://apps.apple.com/in/app/umang/id1236448857\n",
            "https://apps.apple.com/in/app/bsnl-selfcare/id1586971313\n",
            "https://www.apple.com/in/entertainment/\n",
            "https://support.apple.com/en-in/?cid=gn-ols-home-hp-tab\n",
            "https://eci.gov.in/website-policy/privacy-policy-r5/\n",
            "https://www.apple.com/in/shop/goto/buy_accessories\n",
            "https://www.apple.com/in/shop/goto/store\n",
            "https://www.apple.com/in/mac/\n",
            "https://apps.apple.com/in/app/kyc-eci/id1604172836\n",
            "https://www.apple.com/in/shop/goto/bag\n",
            "https://apps.apple.com/story/id1538632801\n",
            "https://www.apple.com/in/legal/\n",
            "https://www.apple.com/in/search\n",
            "https://www.apple.com/in/\n",
            "https://www.apple.com/in/ios/app-store/\n",
            "https://apps.apple.com/in/charts/iphone/productivity-apps/6007\n",
            "https://apps.apple.com/in/app/saksham-eci/id1497864568\n",
            "https://apps.apple.com/in/app/bijli-mitra-powered-by-jvvnl/id1246213437\n",
            "https://www.apple.com/in/shop/goto/help/sales_refunds\n",
            "https://www.apple.com/in/retail/\n",
            "https://www.apple.com/in/ipad/\n",
            "https://apps.apple.com/in/app/bloapp-eci/id6449996333\n",
            "https://apps.apple.com/in/app/garuda-app/id1634928041\n",
            "https://www.apple.com/in/legal/privacy/\n",
            "https://locate.apple.com/in/en/\n",
            "https://apps.apple.com/in/app/voter-turnout-app/id1536366882\n",
            "https://www.apple.com/in/sitemap/\n",
            "https://apps.apple.com/in/app/tangedco/id1289553490\n",
            "https://www.apple.com/in/legal/terms/site.html\n",
            "https://results.eci.gov.in/privacy/index.html\n",
            "https://apps.apple.com/in/app/my-fastag/id1492581255\n",
            "https://www.apple.com/in/tv-home/\n",
            "https://apps.apple.com/in/developer/eci/id1455719540\n",
            "https://itunes.apple.com/in/genre/id6007\n",
            "https://apps.apple.com/in/app/cvigil/id1455719541\n",
            "https://www.apple.com/in/watch/\n",
            "Total Links: 122\n",
            "https://apps.apple.com/in/app/voter-helpline/id1456535004\n",
            "partywiseresult-S02.htm\n",
            "index.htm\n",
            "#\n",
            "./hi/index.htm\n",
            "partywiseresult-S21.htm\n",
            "https://play.google.com/store/apps/details?id=com.eci.citizen\n",
            "Total Links: 125\n",
            "candidateswise-S06108.htm\n",
            "candidateswise-S0685.htm\n",
            "candidateswise-S2562.htm\n",
            "candidateswise-S2971.htm\n",
            "#\n",
            "candidateswise-S24403.htm\n",
            "candidateswise-S0821.htm\n",
            "candidateswise-S04195.htm\n",
            "index.htm\n",
            "candidateswise-S1036.htm\n",
            "candidateswise-S0721.htm\n",
            "candidateswise-S22233.htm\n",
            "candidateswise-S0842.htm\n",
            "candidateswise-S0837.htm\n",
            "https://apps.apple.com/in/app/voter-helpline/id1456535004\n",
            "candidateswise-S24136.htm\n",
            "candidateswise-S0626.htm\n",
            "candidateswise-S0818.htm\n",
            "candidateswise-S24173.htm\n",
            "candidateswise-S0683.htm\n",
            "./hi/index.htm\n",
            "candidateswise-S20165.htm\n",
            "candidateswise-S237.htm\n",
            "candidateswise-S06136.htm\n",
            "candidateswise-S0839.htm\n",
            "candidateswise-S0845.htm\n",
            "https://play.google.com/store/apps/details?id=com.eci.citizen\n",
            "candidateswise-S24292.htm\n",
            "candidateswise-S2731.htm\n",
            "candidateswise-S25113.htm\n",
            "Total Links: 150\n",
            "https://apps.apple.com/in/app/voter-helpline/id1456535004\n",
            "partywiseresult-S18.htm\n",
            "index.htm\n",
            "#\n",
            "./hi/index.htm\n",
            "https://play.google.com/store/apps/details?id=com.eci.citizen\n",
            "partywiseresult-S01.htm\n",
            "Total Links: 152\n"
          ]
        }
      ]
    },
    {
      "cell_type": "markdown",
      "source": [
        "    Relevant Links:\n",
        "    - AcResultGenJune\n",
        "    - AcResultByeJune\n",
        "    - Party Wise result\n",
        "    - Candidate wise result\n",
        "Remainng links are promotions and advertisements"
      ],
      "metadata": {
        "id": "x8S4xm9-DRPL"
      }
    },
    {
      "cell_type": "markdown",
      "source": [
        "Links need to be further analysed to see if they hold more data in the next pages whereas domain names can be be extracted <br>(This is subjective to Websites, this was discovered upon exploration)"
      ],
      "metadata": {
        "id": "Rswu5V-jMzxU"
      }
    },
    {
      "cell_type": "code",
      "source": [
        "relevant_links = ['AcResultGenJune','AcResultByeJune']\n",
        "relevant_domain_names = ['partywisewinresult','candidateswise', ]\n",
        "#filtered_links = [item for item in absolute_links if 'candidateswise'in item]"
      ],
      "metadata": {
        "id": "ULruUBBvEHhe"
      },
      "execution_count": 45,
      "outputs": []
    },
    {
      "cell_type": "code",
      "source": [
        "import os\n",
        "os.makedirs('csv_files', exist_ok=True)"
      ],
      "metadata": {
        "id": "d35smhxXnCtr"
      },
      "execution_count": 50,
      "outputs": []
    },
    {
      "cell_type": "code",
      "source": [
        "# Heirarchical Extraction [4]\n",
        "for item in nav_urls:\n",
        "  for link in relevant_links:\n",
        "    if link in item:\n",
        "      webScrape(item)\n",
        "  print('-------------------------------------WebScrape-----------------------------------------------------')\n",
        "  for domain in relevant_domain_names:\n",
        "    if domain in item:\n",
        "      # the website contains tabulated data under 'Constituencywise' whereas 'candidatewise' has it in the form of ccards\n",
        "      # item = item.replace('candidateswise-', 'Constituencywise')\n",
        "      # Convert relative URLs to absolute URLs\n",
        "      base_url = \"https://results.eci.gov.in/AcResultByeJune2024/\"\n",
        "      url = base_url + item\n",
        "      name = url.split('-')[-1].split('.')[0]\n",
        "      extract_data(url,name)\n",
        "  print('-------------------------------------exctract_data--------------------------------------------------')"
      ],
      "metadata": {
        "id": "eTLh8JhONcYz"
      },
      "execution_count": 56,
      "outputs": []
    },
    {
      "cell_type": "code",
      "source": [
        "import shutil\n",
        "\n",
        "directory_to_compress = '/content/csv_files'\n",
        "output_zip_file = '/content/csv_files.zip'\n",
        "shutil.make_archive(output_zip_file.replace('.zip', ''), 'zip', directory_to_compress)"
      ],
      "metadata": {
        "colab": {
          "base_uri": "https://localhost:8080/",
          "height": 36
        },
        "id": "KFePeP80uoQR",
        "outputId": "4a6f0825-a417-4488-8d53-72da59a8ad65"
      },
      "execution_count": null,
      "outputs": [
        {
          "output_type": "execute_result",
          "data": {
            "text/plain": [
              "'/content/csv_files.zip'"
            ],
            "application/vnd.google.colaboratory.intrinsic+json": {
              "type": "string"
            }
          },
          "metadata": {},
          "execution_count": 22
        }
      ]
    }
  ]
}